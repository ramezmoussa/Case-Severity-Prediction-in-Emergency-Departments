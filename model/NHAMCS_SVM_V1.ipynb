{
  "nbformat": 4,
  "nbformat_minor": 0,
  "metadata": {
    "colab": {
      "name": "NHAMCS_SVM_V1.ipynb",
      "provenance": [],
      "collapsed_sections": []
    },
    "kernelspec": {
      "name": "python3",
      "display_name": "Python 3"
    }
  },
  "cells": [
    {
      "cell_type": "code",
      "metadata": {
        "id": "iHuTZv26QgWN",
        "colab_type": "code",
        "colab": {
          "base_uri": "https://localhost:8080/",
          "height": 122
        },
        "outputId": "2023a4e3-c9ca-4e34-d2fa-95279328eda4"
      },
      "source": [
        "# The dataset is uploaded on Google Drive so we need to import the drive utility library\n",
        "\n",
        "from google.colab import drive\n",
        "drive.mount('/content/drive')"
      ],
      "execution_count": 2,
      "outputs": [
        {
          "output_type": "stream",
          "text": [
            "Go to this URL in a browser: https://accounts.google.com/o/oauth2/auth?client_id=947318989803-6bn6qk8qdgf4n4g3pfee6491hc0brc4i.apps.googleusercontent.com&redirect_uri=urn%3aietf%3awg%3aoauth%3a2.0%3aoob&scope=email%20https%3a%2f%2fwww.googleapis.com%2fauth%2fdocs.test%20https%3a%2f%2fwww.googleapis.com%2fauth%2fdrive%20https%3a%2f%2fwww.googleapis.com%2fauth%2fdrive.photos.readonly%20https%3a%2f%2fwww.googleapis.com%2fauth%2fpeopleapi.readonly&response_type=code\n",
            "\n",
            "Enter your authorization code:\n",
            "··········\n",
            "Mounted at /content/drive\n"
          ],
          "name": "stdout"
        }
      ]
    },
    {
      "cell_type": "code",
      "metadata": {
        "id": "4oWk-XddQk_e",
        "colab_type": "code",
        "colab": {
          "base_uri": "https://localhost:8080/",
          "height": 323
        },
        "outputId": "8c7aeca8-96ee-431f-f64a-174d02295c77"
      },
      "source": [
        "# import pandas\n",
        "import pandas as pd\n",
        "\n",
        "# read the dataset from the SAS file\n",
        "NHAMCS_2017 = pd.read_sas(filepath_or_buffer = '/content/drive/Shared drives/Vodafone Internship/Dataset/ed2017_sas.sas7bdat')\n",
        "NHAMCS_2016 = pd.read_sas(filepath_or_buffer = '/content/drive/Shared drives/Vodafone Internship/Dataset/ed2016_sas.sas7bdat')\n",
        "# inspect the first few records\n",
        "print(NHAMCS_2017.head())\n",
        "print(NHAMCS_2016.head())\n",
        "# look at the dimensions of the dataframe\n",
        "\n",
        "print(NHAMCS_2017.shape)\n",
        "\n",
        "print(NHAMCS_2016.shape)\n",
        "\n",
        "\n"
      ],
      "execution_count": 3,
      "outputs": [
        {
          "output_type": "stream",
          "text": [
            "   VMONTH  VDAYR  ARRTIME  WAITTIME  ...     CSTRATM  CPSUM       PATWT      EDWT\n",
            "0     6.0    6.0  b'2056'      72.0  ...  40100000.0    4.0  3723.12641  21.58043\n",
            "1     6.0    2.0  b'1417'      64.0  ...  40100000.0    4.0  3723.12641       NaN\n",
            "2     6.0    2.0  b'2303'      -7.0  ...  40100000.0    4.0  3723.12641       NaN\n",
            "3     6.0    5.0  b'0930'      29.0  ...  40100000.0    4.0  3723.12641       NaN\n",
            "4     6.0    2.0  b'1332'      20.0  ...  40100000.0    4.0  3723.12641       NaN\n",
            "\n",
            "[5 rows x 949 columns]\n",
            "   VMONTH  VDAYR  ARRTIME  WAITTIME  ...     CSTRATM  CPSUM       PATWT      EDWT\n",
            "0    11.0    6.0  b'2043'      18.0  ...  40300000.0   33.0  2480.42724  28.82586\n",
            "1    11.0    3.0  b'2022'      38.0  ...  40300000.0   33.0  2480.42724       NaN\n",
            "2    11.0    4.0  b'0718'      31.0  ...  40300000.0   33.0  2480.42724       NaN\n",
            "3    11.0    7.0  b'1427'      32.0  ...  40300000.0   33.0  2480.42724       NaN\n",
            "4    11.0    4.0  b'1828'      21.0  ...  40300000.0   33.0  2480.42724       NaN\n",
            "\n",
            "[5 rows x 949 columns]\n",
            "(16709, 949)\n",
            "(19467, 949)\n"
          ],
          "name": "stdout"
        }
      ]
    },
    {
      "cell_type": "code",
      "metadata": {
        "id": "C9s-DbojR6Ws",
        "colab_type": "code",
        "colab": {
          "base_uri": "https://localhost:8080/",
          "height": 272
        },
        "outputId": "6819a49c-5985-4153-8aaa-f56a6804f62d"
      },
      "source": [
        "NHAMCS = NHAMCS_2016.append(NHAMCS_2017, sort=False)\n",
        "\n",
        "print(NHAMCS.head())\n",
        "print(NHAMCS.shape)\n",
        "print(NHAMCS.columns)"
      ],
      "execution_count": 20,
      "outputs": [
        {
          "output_type": "stream",
          "text": [
            "   VMONTH  VDAYR  ARRTIME  WAITTIME  ...  BLANK1  BLANK2  BLANK3  BLANK4\n",
            "0    11.0    6.0  b'2043'      18.0  ...     NaN     NaN     NaN     NaN\n",
            "1    11.0    3.0  b'2022'      38.0  ...     NaN     NaN     NaN     NaN\n",
            "2    11.0    4.0  b'0718'      31.0  ...     NaN     NaN     NaN     NaN\n",
            "3    11.0    7.0  b'1427'      32.0  ...     NaN     NaN     NaN     NaN\n",
            "4    11.0    4.0  b'1828'      21.0  ...     NaN     NaN     NaN     NaN\n",
            "\n",
            "[5 rows x 953 columns]\n",
            "(36176, 953)\n",
            "Index(['VMONTH', 'VDAYR', 'ARRTIME', 'WAITTIME', 'LOV', 'AGE', 'AGER',\n",
            "       'AGEDAYS', 'RESIDNCE', 'SEX',\n",
            "       ...\n",
            "       'SETTYPE', 'YEAR', 'CSTRATM', 'CPSUM', 'PATWT', 'EDWT', 'BLANK1',\n",
            "       'BLANK2', 'BLANK3', 'BLANK4'],\n",
            "      dtype='object', length=953)\n"
          ],
          "name": "stdout"
        }
      ]
    },
    {
      "cell_type": "code",
      "metadata": {
        "id": "xNxNZxnpR9EV",
        "colab_type": "code",
        "colab": {
          "base_uri": "https://localhost:8080/",
          "height": 68
        },
        "outputId": "fd15f01e-cd05-4312-de50-94f1238127c8"
      },
      "source": [
        "# check the different data types and the number of columns of each\n",
        "print(NHAMCS.dtypes.value_counts())"
      ],
      "execution_count": 21,
      "outputs": [
        {
          "output_type": "stream",
          "text": [
            "object     554\n",
            "float64    399\n",
            "dtype: int64\n"
          ],
          "name": "stdout"
        }
      ]
    },
    {
      "cell_type": "code",
      "metadata": {
        "id": "jfxO4NFuR_xK",
        "colab_type": "code",
        "colab": {
          "base_uri": "https://localhost:8080/",
          "height": 153
        },
        "outputId": "fbe34d35-a692-44c7-eafb-ffe5b1872a1a"
      },
      "source": [
        "# select the non-integer types in order to be encoded by the LabelEncoder\n",
        "\n",
        "objectType = NHAMCS.select_dtypes('object')\n",
        "print(objectType.head())\n",
        "\n",
        "objectTypeColumnNames = objectType.columns"
      ],
      "execution_count": 22,
      "outputs": [
        {
          "output_type": "stream",
          "text": [
            "   ARRTIME   CAUSE1   CAUSE2 CAUSE3  ... RX30V3C1 RX30V3C2 RX30V3C3 RX30V3C4\n",
            "0  b'2043'    b'-9'    b'-9'  b'-9'  ...      NaN      NaN      NaN      NaN\n",
            "1  b'2022'  b'V892'  b'Y924'  b'-9'  ...      NaN      NaN      NaN      NaN\n",
            "2  b'0718'    b'-9'    b'-9'  b'-9'  ...      NaN      NaN      NaN      NaN\n",
            "3  b'1427'  b'Y080'  b'Y070'  b'-9'  ...      NaN      NaN      NaN      NaN\n",
            "4  b'1828'  b'W178'    b'-9'  b'-9'  ...      NaN      NaN      NaN      NaN\n",
            "\n",
            "[5 rows x 554 columns]\n"
          ],
          "name": "stdout"
        }
      ]
    },
    {
      "cell_type": "code",
      "metadata": {
        "id": "LQSUhneCSAvL",
        "colab_type": "code",
        "colab": {}
      },
      "source": [
        "# import the LabelEncoder Class\n",
        "from sklearn.preprocessing import LabelEncoder\n",
        "\n",
        "# creating instance of labelencoder\n",
        "labelencoder = LabelEncoder()\n",
        "\n",
        "# encode each column that had type of 'object' to a numeric equivalent using Label Encoder\n",
        "for col in objectTypeColumnNames:\n",
        "  NHAMCS[col] = labelencoder.fit_transform(NHAMCS[col].astype(str))\n"
      ],
      "execution_count": 23,
      "outputs": []
    },
    {
      "cell_type": "code",
      "metadata": {
        "id": "f7nGTMguSBzO",
        "colab_type": "code",
        "colab": {
          "base_uri": "https://localhost:8080/",
          "height": 68
        },
        "outputId": "b1abd887-a4fd-407f-bea8-73d4a71e87ea"
      },
      "source": [
        "# Check the different dataypes after using the Label Encoder\n",
        "print(NHAMCS.dtypes.value_counts())\n"
      ],
      "execution_count": 24,
      "outputs": [
        {
          "output_type": "stream",
          "text": [
            "int64      554\n",
            "float64    399\n",
            "dtype: int64\n"
          ],
          "name": "stdout"
        }
      ]
    },
    {
      "cell_type": "code",
      "metadata": {
        "id": "JgU9ku6RT8Yc",
        "colab_type": "code",
        "colab": {
          "base_uri": "https://localhost:8080/",
          "height": 170
        },
        "outputId": "81c5fc40-9a94-4800-ee7d-1993ae9b8be9"
      },
      "source": [
        "NHAMCS = NHAMCS.dropna(axis = 1)\n",
        "print(NHAMCS.head())\n",
        "print(NHAMCS.shape)"
      ],
      "execution_count": 25,
      "outputs": [
        {
          "output_type": "stream",
          "text": [
            "   VMONTH  VDAYR  ARRTIME  WAITTIME  ...    YEAR     CSTRATM  CPSUM       PATWT\n",
            "0    11.0    6.0     1244      18.0  ...  2016.0  40300000.0   33.0  2480.42724\n",
            "1    11.0    3.0     1223      38.0  ...  2016.0  40300000.0   33.0  2480.42724\n",
            "2    11.0    4.0      439      31.0  ...  2016.0  40300000.0   33.0  2480.42724\n",
            "3    11.0    7.0      868      32.0  ...  2016.0  40300000.0   33.0  2480.42724\n",
            "4    11.0    4.0     1109      21.0  ...  2016.0  40300000.0   33.0  2480.42724\n",
            "\n",
            "[5 rows x 854 columns]\n",
            "(36176, 854)\n"
          ],
          "name": "stdout"
        }
      ]
    },
    {
      "cell_type": "code",
      "metadata": {
        "id": "fsNO_zCcSDHL",
        "colab_type": "code",
        "colab": {
          "base_uri": "https://localhost:8080/",
          "height": 305
        },
        "outputId": "cd52fab5-bd2f-400b-b7b6-2676ba85f6f9"
      },
      "source": [
        "# Firstly, we will look at the percentage of the missing values (or blank) in the 'IMMEDR' column\n",
        "missingValuesPercentage = (NHAMCS[NHAMCS['IMMEDR']==-9].shape[0] + NHAMCS[NHAMCS['IMMEDR']==-8].shape[0] + NHAMCS[NHAMCS['IMMEDR']==7].shape[0] +NHAMCS[NHAMCS['IMMEDR']==0].shape[0])/16709 *100\n",
        "print(str(missingValuesPercentage) + \"% of the values are missing in the 'IMMEDR' feature\" )\n",
        "\n",
        "# Only 27% is missing and therefore, we will still use it as our target variable\n",
        "immediacyLevel = NHAMCS['IMMEDR']\n",
        "NHAMCS = NHAMCS.drop(['IMMEDR'], axis=1)\n",
        "# Observe the different values present in the target label\n",
        "differentValues = immediacyLevel.value_counts().sort_index()\n",
        "\n",
        "differentValues.plot.bar()"
      ],
      "execution_count": 35,
      "outputs": [
        {
          "output_type": "stream",
          "text": [
            "0.0% of the values are missing in the 'IMMEDR' feature\n"
          ],
          "name": "stdout"
        },
        {
          "output_type": "execute_result",
          "data": {
            "text/plain": [
              "<matplotlib.axes._subplots.AxesSubplot at 0x7f5e09a1ed30>"
            ]
          },
          "metadata": {
            "tags": []
          },
          "execution_count": 35
        },
        {
          "output_type": "display_data",
          "data": {
            "image/png": "[encoded data removed]",
            "text/plain": [
              "<Figure size 432x288 with 1 Axes>"
            ]
          },
          "metadata": {
            "tags": [],
            "needs_background": "light"
          }
        }
      ]
    },
    {
      "cell_type": "code",
      "metadata": {
        "id": "XcsUTw-kVp_8",
        "colab_type": "code",
        "colab": {}
      },
      "source": [
        "immediacyLevel = immediacyLevel[immediacyLevel.IMMEDR != -9]\n",
        "immediacyLevel = immediacyLevel[immediacyLevel.IMMEDR != -8]\n",
        "immediacyLevel = immediacyLevel[immediacyLevel.IMMEDR != 0]\n",
        "immediacyLevel = immediacyLevel[immediacyLevel.IMMEDR != 7]"
      ],
      "execution_count": 34,
      "outputs": []
    },
    {
      "cell_type": "code",
      "metadata": {
        "id": "p1_IDS76SGRQ",
        "colab_type": "code",
        "colab": {}
      },
      "source": [
        "# The patient ID\n",
        "patID = NHAMCS[['PATCODE']]\n",
        "\n",
        "# Demoggraphics of the patient\n",
        "demographics = NHAMCS[['AGE', 'AGER', 'AGEDAYS', 'SEX', 'PATWT']]\n",
        "\n",
        "# Data related to the ER visit\n",
        "visit = NHAMCS[['WAITTIME', 'PAINSCALE', 'SEEN72', 'TOTDIAG']]\n",
        "\n",
        "# The causes recorded for the patient's situation\n",
        "causes = NHAMCS[['CAUSE1', 'CAUSE2', 'CAUSE3']]\n",
        "\n",
        "# The proposed diagnoses for the patient as well as how probably each of them is\n",
        "diagnoses = NHAMCS[['DIAG1', 'DIAG2', 'DIAG3', 'DIAG4']]\n",
        "diagnosesProbable = NHAMCS[['PRDIAG1', 'PRDIAG2', 'PRDIAG3', 'PRDIAG4']]\n",
        "\n",
        "# The complaints recorded by the patient in their previous visits\n",
        "patientComplaintsDetailed = NHAMCS[['RFV1', 'RFV2', 'RFV3', 'RFV4']]\n",
        "patientComplaintsBroad = NHAMCS[['RFV13D', 'RFV23D', 'RFV33D', 'RFV43D']]\n",
        "\n",
        "# Data related to the patients injury (if any)\n",
        "injuryData = NHAMCS[['INJURY', 'INJPOISAD', 'INJURY72', 'INTENT15', 'INJURY_ENC']]\n",
        "\n",
        "# The patient's vitals\n",
        "vitals = NHAMCS[['VITALSD', 'TEMPDF', 'PULSED', 'RESPRD', 'BPSYSD', 'BPDIASD']]\n",
        "\n",
        "# The patient's disease history\n",
        "previousDiseases = NHAMCS[['ETOHAB' ,'ALZHD','ASTHMA','CANCER','CEBVD','CKD','COPD','CHF','CAD',\n",
        "                           'DEPRN','DIABTYP1','DIABTYP2','DIABTYP0','ESRD','HPE','EDHIV','HYPLIPID','HTN',\n",
        "                           'OBESITY' ,'OSA' ,'OSTPRSIS', 'SUBSTAB', 'NOCHRON','TOTCHRON']]\n",
        "\n",
        "# Blood test results (if any)\n",
        "blood = NHAMCS[['ABG','BAC','BMP','BNP','BUNCREAT','CARDENZ','CBC','CMP','BLOODCX',\n",
        "                'TRTCX','URINECX','WOUNDCX','OTHCX','DDIMER','ELECTROL','GLUCOSE','LACTATE','LFT','PTTINR','OTHERBLD','CARDMON',\n",
        "                'EKG','HIVTEST','FLUTEST','PREGTEST','TOXSCREN','URINE']]\n",
        "\n",
        "# Imaging results (if any)\n",
        "imaging = NHAMCS[['ANYIMAGE','XRAY','CATSCAN','CTCONTRAST','CTAB','CTCHEST','CTHEAD','CTOTHER','CTUNK','MRI','MRICONTRAST','ULTRASND','OTHIMAGE']]\n",
        "\n",
        "# The patient's medicine history\n",
        "medications = NHAMCS[['MED1','MED2','MED3','MED4','MED5','MED6','MED7','MED8','MED9','MED10',\n",
        "                      'MED11','MED12','MED13','MED14','MED15','MED16','MED17','MED18','MED19',\n",
        "                      'MED20','MED21','MED22','MED23','MED24','MED25','MED26','MED27','MED28','MED29','MED30']]\n",
        "\n",
        "# Any medicine prescribed in the ER \n",
        "ERMedications = NHAMCS[['GPMED1','GPMED2','GPMED3','GPMED4','GPMED5','GPMED6','GPMED7','GPMED8','GPMED9','GPMED10',\n",
        "                        'GPMED11','GPMED12','GPMED13','GPMED14','GPMED15','GPMED16','GPMED17','GPMED18','GPMED19',\n",
        "                        'GPMED20','GPMED21','GPMED22','GPMED23','GPMED24','GPMED25','GPMED26','GPMED27','GPMED28','GPMED29','GPMED30']]\n",
        "\n",
        "manually_selected_features = pd.concat([patID, demographics, visit, causes, diagnoses, diagnosesProbable, patientComplaintsDetailed, patientComplaintsBroad, injuryData, \n",
        "                        vitals, previousDiseases, blood, imaging, medications, ERMedications], axis=1)"
      ],
      "execution_count": 38,
      "outputs": []
    },
    {
      "cell_type": "code",
      "metadata": {
        "id": "APLq9mI4SIYo",
        "colab_type": "code",
        "colab": {
          "base_uri": "https://localhost:8080/",
          "height": 258
        },
        "outputId": "3eb34482-be4c-4b09-a1aa-bf7b8fcc6864"
      },
      "source": [
        "automatically_selected_features = NHAMCS\n",
        "\n",
        "# Import the SelectKBest Class, as well as the f_classif scoring metric\n",
        "from sklearn.feature_selection import SelectKBest, f_classif\n",
        "\n",
        "# create an instance of SelectKBest which will select the best 10 features\n",
        "selector_automatic = SelectKBest(f_classif, k=10)\n",
        "\n",
        "# Create a new dataframe with the only top 10 features that would affect our label (immediacyLevel)\n",
        "X_new_automatic = selector_automatic.fit_transform(automatically_selected_features, immediacyLevel)\n",
        "\n",
        "# This part extracts the names of the features since the X_new does not contain column names\n",
        "mask = selector_automatic.get_support() #list of booleans\n",
        "new_features_automatic = [] # The list of your K best features\n",
        "feature_names = automatically_selected_features.columns\n",
        "for bool, feature in zip(mask, feature_names):\n",
        "  if bool:\n",
        "    new_features_automatic.append(feature)\n",
        "\n",
        "# Replace X_new_automatic with itself, along with the names of the columns\n",
        "X_new_automatic = pd.DataFrame(X_new_automatic, columns=new_features_automatic)\n",
        "\n",
        "# print the first 5 records of X_new_automatic to inspect it\n",
        "print(X_new_automatic.head())"
      ],
      "execution_count": 52,
      "outputs": [
        {
          "output_type": "stream",
          "text": [
            "   CBC  CMP  OTHERBLD  EKG  URINE  TOTDIAG  IVFLUIDS  BPSYSD  BPDIASD  ADMITHOS\n",
            "0  0.0  0.0       0.0  0.0    1.0      2.0       0.0    -9.0     -9.0       0.0\n",
            "1  0.0  0.0       0.0  0.0    0.0      2.0       0.0   171.0     97.0       0.0\n",
            "2  0.0  1.0       0.0  0.0    1.0      5.0       1.0   148.0     99.0       0.0\n",
            "3  1.0  1.0       0.0  0.0    0.0      4.0       0.0    -9.0     -9.0       0.0\n",
            "4  1.0  1.0       0.0  1.0    1.0      8.0       1.0   118.0     70.0       0.0\n"
          ],
          "name": "stdout"
        },
        {
          "output_type": "stream",
          "text": [
            "/usr/local/lib/python3.6/dist-packages/sklearn/feature_selection/_univariate_selection.py:114: UserWarning: Features [597 601 605 609 614 618 622 626 631 635 639 643 665 669 673 676 677 732\n",
            " 733 736 737 740 741 744 745 749 750 753 754 757 758 761 762 766 767 770\n",
            " 771 774 775 778 779 801 805 809 813 816 817 818 820 821 822 824 825 826\n",
            " 828 829 830 833 834 835 837 838 839 841 842 843 845 846 847 848] are constant.\n",
            "  UserWarning)\n",
            "/usr/local/lib/python3.6/dist-packages/sklearn/feature_selection/_univariate_selection.py:115: RuntimeWarning: invalid value encountered in true_divide\n",
            "  f = msb / msw\n"
          ],
          "name": "stderr"
        }
      ]
    },
    {
      "cell_type": "code",
      "metadata": {
        "id": "6DGXiV0XTWN3",
        "colab_type": "code",
        "colab": {
          "base_uri": "https://localhost:8080/",
          "height": 119
        },
        "outputId": "89375cb9-a526-4c9b-9677-8eb30cc1f0cc"
      },
      "source": [
        "# create an instance of SelectKBest which will select the best 10 features\n",
        "selector_manual = SelectKBest(f_classif, k=10)\n",
        "\n",
        "# Create a new dataframe with the only top 10 features that would affect our label (immediacyLevel)\n",
        "X_new_manual = selector_manual.fit_transform(manually_selected_features, immediacyLevel)\n",
        "\n",
        "# This part extracts the names of the features since the X_new does not contain column names\n",
        "mask = selector_manual.get_support() #list of booleans\n",
        "new_features_manual = [] # The list of your K best features\n",
        "feature_names = manually_selected_features.columns\n",
        "for bool, feature in zip(mask, feature_names):\n",
        "  if bool:\n",
        "    new_features_manual.append(feature)\n",
        "\n",
        "# Replace X_new_manual with itself, along with the names of the columns\n",
        "X_new_manual = pd.DataFrame(X_new_manual, columns=new_features_manual)\n",
        "\n",
        "# print the first 5 records of X_new_manual to inspect it\n",
        "print(X_new_manual.head())"
      ],
      "execution_count": 53,
      "outputs": [
        {
          "output_type": "stream",
          "text": [
            "    AGE  TOTDIAG  BPSYSD  BPDIASD  CBC  CMP  OTHERBLD  CARDMON  EKG  URINE\n",
            "0  55.0      2.0    -9.0     -9.0  0.0  0.0       0.0      0.0  0.0    1.0\n",
            "1  69.0      2.0   171.0     97.0  0.0  0.0       0.0      0.0  0.0    0.0\n",
            "2  52.0      5.0   148.0     99.0  0.0  1.0       0.0      0.0  0.0    1.0\n",
            "3  33.0      4.0    -9.0     -9.0  1.0  1.0       0.0      0.0  0.0    0.0\n",
            "4  21.0      8.0   118.0     70.0  1.0  1.0       0.0      0.0  1.0    1.0\n"
          ],
          "name": "stdout"
        }
      ]
    },
    {
      "cell_type": "code",
      "metadata": {
        "id": "8H0X7ZQuW8gK",
        "colab_type": "code",
        "colab": {}
      },
      "source": [
        "# Import train_test_split function\n",
        "from sklearn.model_selection import train_test_split\n",
        "\n",
        "# Split dataset into training set and test set\n",
        "X_train_manual, X_test_manual, y_train_manual, y_test_manual = train_test_split(NHAMCS[new_features_manual], immediacyLevel, test_size=0.2, random_state = 5) # 80% training and 20% test\n",
        "X_train_automatic, X_test_automatic, y_train_automatic, y_test_automatic= train_test_split(NHAMCS[new_features_automatic], immediacyLevel, test_size=0.2, random_state = 5) # 80% training and 20% test"
      ],
      "execution_count": 54,
      "outputs": []
    },
    {
      "cell_type": "code",
      "metadata": {
        "id": "Lj7W7_szUlQM",
        "colab_type": "code",
        "colab": {}
      },
      "source": [
        "#Import svm model\n",
        "from sklearn import svm\n",
        "from sklearn.metrics import classification_report, confusion_matrix"
      ],
      "execution_count": 55,
      "outputs": []
    },
    {
      "cell_type": "code",
      "metadata": {
        "id": "mzM5-Vj7VHbP",
        "colab_type": "code",
        "colab": {
          "base_uri": "https://localhost:8080/",
          "height": 275
        },
        "outputId": "4967978f-887c-44f2-c361-56f9401021d3"
      },
      "source": [
        "# train the model on train set \n",
        "model = svm.SVC(kernel='linear') \n",
        "model.fit(X_train_manual, y_train_manual) \n",
        "  \n",
        "# print prediction results \n",
        "predictions_manual = model.predict(X_test_manual) \n",
        "print(classification_report(y_test_manual, predictions_manual))"
      ],
      "execution_count": 56,
      "outputs": [
        {
          "output_type": "stream",
          "text": [
            "              precision    recall  f1-score   support\n",
            "\n",
            "         1.0       0.00      0.00      0.00        65\n",
            "         2.0       0.00      0.00      0.00       587\n",
            "         3.0       0.64      0.58      0.61      2441\n",
            "         4.0       0.51      0.84      0.64      1819\n",
            "         5.0       0.00      0.00      0.00       293\n",
            "\n",
            "    accuracy                           0.57      5205\n",
            "   macro avg       0.23      0.28      0.25      5205\n",
            "weighted avg       0.48      0.57      0.51      5205\n",
            "\n"
          ],
          "name": "stdout"
        },
        {
          "output_type": "stream",
          "text": [
            "/usr/local/lib/python3.6/dist-packages/sklearn/metrics/_classification.py:1272: UndefinedMetricWarning: Precision and F-score are ill-defined and being set to 0.0 in labels with no predicted samples. Use `zero_division` parameter to control this behavior.\n",
            "  _warn_prf(average, modifier, msg_start, len(result))\n"
          ],
          "name": "stderr"
        }
      ]
    },
    {
      "cell_type": "code",
      "metadata": {
        "id": "mm5WWEayW1yG",
        "colab_type": "code",
        "colab": {
          "base_uri": "https://localhost:8080/",
          "height": 275
        },
        "outputId": "d2c6b31d-215c-4b03-b159-bcff9e5580c8"
      },
      "source": [
        "# train the model on train set \n",
        "model_auto = svm.SVC(kernel='linear') \n",
        "model_auto.fit(X_train_automatic, y_train_automatic) \n",
        "  \n",
        "# print prediction results \n",
        "predictions_automatic = model_auto.predict(X_test_automatic) \n",
        "print(classification_report(y_test_automatic, predictions_automatic))"
      ],
      "execution_count": 57,
      "outputs": [
        {
          "output_type": "stream",
          "text": [
            "              precision    recall  f1-score   support\n",
            "\n",
            "         1.0       0.00      0.00      0.00        65\n",
            "         2.0       0.16      0.03      0.05       587\n",
            "         3.0       0.64      0.57      0.61      2441\n",
            "         4.0       0.52      0.83      0.64      1819\n",
            "         5.0       0.00      0.00      0.00       293\n",
            "\n",
            "    accuracy                           0.56      5205\n",
            "   macro avg       0.26      0.29      0.26      5205\n",
            "weighted avg       0.50      0.56      0.51      5205\n",
            "\n"
          ],
          "name": "stdout"
        },
        {
          "output_type": "stream",
          "text": [
            "/usr/local/lib/python3.6/dist-packages/sklearn/metrics/_classification.py:1272: UndefinedMetricWarning: Precision and F-score are ill-defined and being set to 0.0 in labels with no predicted samples. Use `zero_division` parameter to control this behavior.\n",
            "  _warn_prf(average, modifier, msg_start, len(result))\n"
          ],
          "name": "stderr"
        }
      ]
    },
    {
      "cell_type": "code",
      "metadata": {
        "id": "482-MiYAawBh",
        "colab_type": "code",
        "colab": {
          "base_uri": "https://localhost:8080/",
          "height": 282
        },
        "outputId": "d217ea59-ff4a-4cf2-fb50-0005b27be065"
      },
      "source": [
        "pd.Series(abs(model.coef_[0]), index=X_train_manual.columns).nlargest(10).plot(kind='barh')\n"
      ],
      "execution_count": 61,
      "outputs": [
        {
          "output_type": "execute_result",
          "data": {
            "text/plain": [
              "<matplotlib.axes._subplots.AxesSubplot at 0x7f5e070429b0>"
            ]
          },
          "metadata": {
            "tags": []
          },
          "execution_count": 61
        },
        {
          "output_type": "display_data",
          "data": {
            "image/png": "[encoded data removed]",
            "text/plain": [
              "<Figure size 432x288 with 1 Axes>"
            ]
          },
          "metadata": {
            "tags": [],
            "needs_background": "light"
          }
        }
      ]
    },
    {
      "cell_type": "code",
      "metadata": {
        "id": "w7m0hFjNkTST",
        "colab_type": "code",
        "colab": {
          "base_uri": "https://localhost:8080/",
          "height": 295
        },
        "outputId": "1bdb6796-53bf-4e33-eb79-2f13e95e0336"
      },
      "source": [
        "pd.Series(abs(model_auto.coef_[0]), index=X_train_automatic.columns).nlargest(10).plot(kind='barh')\n"
      ],
      "execution_count": 63,
      "outputs": [
        {
          "output_type": "execute_result",
          "data": {
            "text/plain": [
              "<matplotlib.axes._subplots.AxesSubplot at 0x7f5e099a6860>"
            ]
          },
          "metadata": {
            "tags": []
          },
          "execution_count": 63
        },
        {
          "output_type": "display_data",
          "data": {
            "image/png": "[encoded data removed]",
            "text/plain": [
              "<Figure size 432x288 with 1 Axes>"
            ]
          },
          "metadata": {
            "tags": [],
            "needs_background": "light"
          }
        }
      ]
    },
    {
      "cell_type": "code",
      "metadata": {
        "id": "LmH8G-0Bqkna",
        "colab_type": "code",
        "colab": {}
      },
      "source": [
        ""
      ],
      "execution_count": null,
      "outputs": []
    }
  ]
}