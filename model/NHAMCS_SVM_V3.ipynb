{
  "nbformat": 4,
  "nbformat_minor": 0,
  "metadata": {
    "colab": {
      "name": "NHAMCS_SVM_V3.ipynb",
      "provenance": [],
      "collapsed_sections": []
    },
    "kernelspec": {
      "name": "python3",
      "display_name": "Python 3"
    }
  },
  "cells": [
    {
      "cell_type": "code",
      "metadata": {
        "id": "iHuTZv26QgWN",
        "colab_type": "code",
        "colab": {
          "base_uri": "https://localhost:8080/",
          "height": 121
        },
        "outputId": "46e1affc-ac25-4224-bf7c-e8642aa81e46"
      },
      "source": [
        "# The dataset is uploaded on Google Drive so we need to import the drive utility library\n",
        "\n",
        "from google.colab import drive\n",
        "drive.mount('/content/drive')"
      ],
      "execution_count": 1,
      "outputs": [
        {
          "output_type": "stream",
          "text": [
            "Go to this URL in a browser: https://accounts.google.com/o/oauth2/auth?client_id=947318989803-6bn6qk8qdgf4n4g3pfee6491hc0brc4i.apps.googleusercontent.com&redirect_uri=urn%3aietf%3awg%3aoauth%3a2.0%3aoob&scope=email%20https%3a%2f%2fwww.googleapis.com%2fauth%2fdocs.test%20https%3a%2f%2fwww.googleapis.com%2fauth%2fdrive%20https%3a%2f%2fwww.googleapis.com%2fauth%2fdrive.photos.readonly%20https%3a%2f%2fwww.googleapis.com%2fauth%2fpeopleapi.readonly&response_type=code\n",
            "\n",
            "Enter your authorization code:\n",
            "··········\n",
            "Mounted at /content/drive\n"
          ],
          "name": "stdout"
        }
      ]
    },
    {
      "cell_type": "code",
      "metadata": {
        "id": "4oWk-XddQk_e",
        "colab_type": "code",
        "colab": {
          "base_uri": "https://localhost:8080/",
          "height": 319
        },
        "outputId": "098dc75b-37e0-4c33-e43d-2d3237b4f24e"
      },
      "source": [
        "# import pandas\n",
        "import pandas as pd\n",
        "\n",
        "# read the dataset from the SAS file\n",
        "NHAMCS_2017 = pd.read_sas(filepath_or_buffer = '/content/drive/Shared drives/Vodafone Internship/Dataset/ed2017_sas.sas7bdat')\n",
        "NHAMCS_2016 = pd.read_sas(filepath_or_buffer = '/content/drive/Shared drives/Vodafone Internship/Dataset/ed2016_sas.sas7bdat')\n",
        "# inspect the first few records\n",
        "print(NHAMCS_2017.head())\n",
        "print(NHAMCS_2016.head())\n",
        "# look at the dimensions of the dataframe\n",
        "\n",
        "print(NHAMCS_2017.shape)\n",
        "\n",
        "print(NHAMCS_2016.shape)\n",
        "\n",
        "\n"
      ],
      "execution_count": 2,
      "outputs": [
        {
          "output_type": "stream",
          "text": [
            "   VMONTH  VDAYR  ARRTIME  WAITTIME  ...     CSTRATM  CPSUM       PATWT      EDWT\n",
            "0     6.0    6.0  b'2056'      72.0  ...  40100000.0    4.0  3723.12641  21.58043\n",
            "1     6.0    2.0  b'1417'      64.0  ...  40100000.0    4.0  3723.12641       NaN\n",
            "2     6.0    2.0  b'2303'      -7.0  ...  40100000.0    4.0  3723.12641       NaN\n",
            "3     6.0    5.0  b'0930'      29.0  ...  40100000.0    4.0  3723.12641       NaN\n",
            "4     6.0    2.0  b'1332'      20.0  ...  40100000.0    4.0  3723.12641       NaN\n",
            "\n",
            "[5 rows x 949 columns]\n",
            "   VMONTH  VDAYR  ARRTIME  WAITTIME  ...     CSTRATM  CPSUM       PATWT      EDWT\n",
            "0    11.0    6.0  b'2043'      18.0  ...  40300000.0   33.0  2480.42724  28.82586\n",
            "1    11.0    3.0  b'2022'      38.0  ...  40300000.0   33.0  2480.42724       NaN\n",
            "2    11.0    4.0  b'0718'      31.0  ...  40300000.0   33.0  2480.42724       NaN\n",
            "3    11.0    7.0  b'1427'      32.0  ...  40300000.0   33.0  2480.42724       NaN\n",
            "4    11.0    4.0  b'1828'      21.0  ...  40300000.0   33.0  2480.42724       NaN\n",
            "\n",
            "[5 rows x 949 columns]\n",
            "(16709, 949)\n",
            "(19467, 949)\n"
          ],
          "name": "stdout"
        }
      ]
    },
    {
      "cell_type": "code",
      "metadata": {
        "id": "C9s-DbojR6Ws",
        "colab_type": "code",
        "colab": {
          "base_uri": "https://localhost:8080/",
          "height": 269
        },
        "outputId": "9ea490ad-0a2b-4faa-d705-8c1eac9bcaad"
      },
      "source": [
        "NHAMCS = NHAMCS_2016.append(NHAMCS_2017, sort=False)\n",
        "\n",
        "print(NHAMCS.head())\n",
        "print(NHAMCS.shape)\n",
        "print(NHAMCS.columns)"
      ],
      "execution_count": 157,
      "outputs": [
        {
          "output_type": "stream",
          "text": [
            "   VMONTH  VDAYR  ARRTIME  WAITTIME  ...  BLANK1  BLANK2  BLANK3  BLANK4\n",
            "0    11.0    6.0  b'2043'      18.0  ...     NaN     NaN     NaN     NaN\n",
            "1    11.0    3.0  b'2022'      38.0  ...     NaN     NaN     NaN     NaN\n",
            "2    11.0    4.0  b'0718'      31.0  ...     NaN     NaN     NaN     NaN\n",
            "3    11.0    7.0  b'1427'      32.0  ...     NaN     NaN     NaN     NaN\n",
            "4    11.0    4.0  b'1828'      21.0  ...     NaN     NaN     NaN     NaN\n",
            "\n",
            "[5 rows x 953 columns]\n",
            "(36176, 953)\n",
            "Index(['VMONTH', 'VDAYR', 'ARRTIME', 'WAITTIME', 'LOV', 'AGE', 'AGER',\n",
            "       'AGEDAYS', 'RESIDNCE', 'SEX',\n",
            "       ...\n",
            "       'SETTYPE', 'YEAR', 'CSTRATM', 'CPSUM', 'PATWT', 'EDWT', 'BLANK1',\n",
            "       'BLANK2', 'BLANK3', 'BLANK4'],\n",
            "      dtype='object', length=953)\n"
          ],
          "name": "stdout"
        }
      ]
    },
    {
      "cell_type": "code",
      "metadata": {
        "id": "JgU9ku6RT8Yc",
        "colab_type": "code",
        "colab": {
          "base_uri": "https://localhost:8080/",
          "height": 168
        },
        "outputId": "27f83290-6c0f-4ab9-8ca5-dfd243dcfd00"
      },
      "source": [
        "NHAMCS = NHAMCS.dropna(axis = 1)\n",
        "print(NHAMCS.head())\n",
        "print(NHAMCS.shape)"
      ],
      "execution_count": 158,
      "outputs": [
        {
          "output_type": "stream",
          "text": [
            "   VMONTH  VDAYR  ARRTIME  WAITTIME  ...    YEAR     CSTRATM  CPSUM       PATWT\n",
            "0    11.0    6.0  b'2043'      18.0  ...  2016.0  40300000.0   33.0  2480.42724\n",
            "1    11.0    3.0  b'2022'      38.0  ...  2016.0  40300000.0   33.0  2480.42724\n",
            "2    11.0    4.0  b'0718'      31.0  ...  2016.0  40300000.0   33.0  2480.42724\n",
            "3    11.0    7.0  b'1427'      32.0  ...  2016.0  40300000.0   33.0  2480.42724\n",
            "4    11.0    4.0  b'1828'      21.0  ...  2016.0  40300000.0   33.0  2480.42724\n",
            "\n",
            "[5 rows x 344 columns]\n",
            "(36176, 344)\n"
          ],
          "name": "stdout"
        }
      ]
    },
    {
      "cell_type": "code",
      "metadata": {
        "id": "hVNAXYNLxIho",
        "colab_type": "code",
        "colab": {}
      },
      "source": [
        "# consider data leakage:\n",
        "data_leakage_cols = ['DIEDED', 'ADMITHOS',  'ADMIT',  'HDSTAT', 'ADISP'] \n",
        "NHAMCS = NHAMCS.drop(data_leakage_cols, axis=1)\n",
        "\n",
        "# consider closely correlated columns and leave only 1 of them\n",
        "redundant_cols = ['AGER', 'NOCHRON']\n",
        "NHAMCS = NHAMCS.drop(redundant_cols, axis=1)\n",
        "\n"
      ],
      "execution_count": 159,
      "outputs": []
    },
    {
      "cell_type": "code",
      "metadata": {
        "id": "xNxNZxnpR9EV",
        "colab_type": "code",
        "colab": {
          "base_uri": "https://localhost:8080/",
          "height": 67
        },
        "outputId": "db9ca64c-9931-405d-d3c2-1be57804092e"
      },
      "source": [
        "# check the different data types and the number of columns of each\n",
        "print(NHAMCS.dtypes.value_counts())"
      ],
      "execution_count": 160,
      "outputs": [
        {
          "output_type": "stream",
          "text": [
            "float64    293\n",
            "object      44\n",
            "dtype: int64\n"
          ],
          "name": "stdout"
        }
      ]
    },
    {
      "cell_type": "code",
      "metadata": {
        "id": "jfxO4NFuR_xK",
        "colab_type": "code",
        "colab": {
          "base_uri": "https://localhost:8080/",
          "height": 151
        },
        "outputId": "7b443851-d739-4a99-c320-8f43ed370faa"
      },
      "source": [
        "# select the non-integer types in order to be encoded by the LabelEncoder\n",
        "\n",
        "objectType = NHAMCS.select_dtypes('object')\n",
        "print(objectType.head())\n",
        "\n",
        "objectTypeColumnNames = objectType.columns"
      ],
      "execution_count": 161,
      "outputs": [
        {
          "output_type": "stream",
          "text": [
            "   ARRTIME   CAUSE1   CAUSE2 CAUSE3  ... HDDIAG2 HDDIAG3 HDDIAG4 HDDIAG5\n",
            "0  b'2043'    b'-9'    b'-9'  b'-9'  ...   b'-7'   b'-7'   b'-7'   b'-7'\n",
            "1  b'2022'  b'V892'  b'Y924'  b'-9'  ...   b'-7'   b'-7'   b'-7'   b'-7'\n",
            "2  b'0718'    b'-9'    b'-9'  b'-9'  ...   b'-7'   b'-7'   b'-7'   b'-7'\n",
            "3  b'1427'  b'Y080'  b'Y070'  b'-9'  ...   b'-7'   b'-7'   b'-7'   b'-7'\n",
            "4  b'1828'  b'W178'    b'-9'  b'-9'  ...   b'-7'   b'-7'   b'-7'   b'-7'\n",
            "\n",
            "[5 rows x 44 columns]\n"
          ],
          "name": "stdout"
        }
      ]
    },
    {
      "cell_type": "code",
      "metadata": {
        "id": "LQSUhneCSAvL",
        "colab_type": "code",
        "colab": {}
      },
      "source": [
        "# import the LabelEncoder Class\n",
        "from sklearn.preprocessing import LabelEncoder\n",
        "\n",
        "# creating instance of labelencoder\n",
        "labelencoder = LabelEncoder()\n",
        "\n",
        "# encode each column that had type of 'object' to a numeric equivalent using Label Encoder\n",
        "for col in objectTypeColumnNames:\n",
        "  NHAMCS[col] = labelencoder.fit_transform(NHAMCS[col].astype(str))\n"
      ],
      "execution_count": 162,
      "outputs": []
    },
    {
      "cell_type": "code",
      "metadata": {
        "id": "f7nGTMguSBzO",
        "colab_type": "code",
        "colab": {
          "base_uri": "https://localhost:8080/",
          "height": 67
        },
        "outputId": "4ce3d478-892e-4be4-993b-005051ece726"
      },
      "source": [
        "# Check the different dataypes after using the Label Encoder\n",
        "print(NHAMCS.dtypes.value_counts())\n"
      ],
      "execution_count": 163,
      "outputs": [
        {
          "output_type": "stream",
          "text": [
            "float64    293\n",
            "int64       44\n",
            "dtype: int64\n"
          ],
          "name": "stdout"
        }
      ]
    },
    {
      "cell_type": "code",
      "metadata": {
        "id": "fsNO_zCcSDHL",
        "colab_type": "code",
        "colab": {
          "base_uri": "https://localhost:8080/",
          "height": 309
        },
        "outputId": "decd859a-f6ef-459c-b2a5-4d14e64bd5f6"
      },
      "source": [
        "# Firstly, we will look at the percentage of the missing values (or blank) in the 'IMMEDR' column\n",
        "missingValuesPercentage = (NHAMCS[NHAMCS['IMMEDR']==-9].shape[0] + NHAMCS[NHAMCS['IMMEDR']==-8].shape[0] + NHAMCS[NHAMCS['IMMEDR']==7].shape[0] +NHAMCS[NHAMCS['IMMEDR']==0].shape[0])/16709 *100\n",
        "print(str(missingValuesPercentage) + \"% of the values are missing in the 'IMMEDR' feature\" )\n",
        "\n",
        "# Only 27% is missing and therefore, we will still use it as our target variable\n",
        "\n",
        "# Observe the different values present in the target label\n",
        "differentValues = NHAMCS['IMMEDR'].value_counts().sort_index()\n",
        "\n",
        "differentValues.plot.bar()"
      ],
      "execution_count": 164,
      "outputs": [
        {
          "output_type": "stream",
          "text": [
            "60.757675504219286% of the values are missing in the 'IMMEDR' feature\n"
          ],
          "name": "stdout"
        },
        {
          "output_type": "execute_result",
          "data": {
            "text/plain": [
              "<matplotlib.axes._subplots.AxesSubplot at 0x7f49f7b4bf98>"
            ]
          },
          "metadata": {
            "tags": []
          },
          "execution_count": 164
        },
        {
          "output_type": "display_data",
          "data": {
            "image/png": "[encoded data removed]",
            "text/plain": [
              "<Figure size 432x288 with 1 Axes>"
            ]
          },
          "metadata": {
            "tags": [],
            "needs_background": "light"
          }
        }
      ]
    },
    {
      "cell_type": "code",
      "metadata": {
        "id": "XcsUTw-kVp_8",
        "colab_type": "code",
        "colab": {
          "base_uri": "https://localhost:8080/",
          "height": 288
        },
        "outputId": "bbd11b45-f753-4743-9465-73edf8381405"
      },
      "source": [
        "NHAMCS = NHAMCS[NHAMCS.IMMEDR != -9]\n",
        "NHAMCS = NHAMCS[NHAMCS.IMMEDR != -8]\n",
        "NHAMCS = NHAMCS[NHAMCS.IMMEDR != 0]\n",
        "NHAMCS = NHAMCS[NHAMCS.IMMEDR != 7]\n",
        "\n",
        "immediacyLevel = NHAMCS['IMMEDR']\n",
        "NHAMCS = NHAMCS.drop(['IMMEDR'], axis=1)\n",
        "\n",
        "\n",
        "# Observe the different values present in the target label\n",
        "differentValues = immediacyLevel.value_counts().sort_index()\n",
        "\n",
        "differentValues.plot.bar()"
      ],
      "execution_count": 165,
      "outputs": [
        {
          "output_type": "execute_result",
          "data": {
            "text/plain": [
              "<matplotlib.axes._subplots.AxesSubplot at 0x7f49f78fd5f8>"
            ]
          },
          "metadata": {
            "tags": []
          },
          "execution_count": 165
        },
        {
          "output_type": "display_data",
          "data": {
            "image/png": "[encoded data removed]",
            "text/plain": [
              "<Figure size 432x288 with 1 Axes>"
            ]
          },
          "metadata": {
            "tags": [],
            "needs_background": "light"
          }
        }
      ]
    },
    {
      "cell_type": "code",
      "metadata": {
        "id": "p1_IDS76SGRQ",
        "colab_type": "code",
        "colab": {}
      },
      "source": [
        "# The patient ID\n",
        "patID = NHAMCS[['PATCODE']]\n",
        "\n",
        "# Demoggraphics of the patient\n",
        "demographics = NHAMCS[['AGE', 'AGEDAYS', 'SEX', 'PATWT']]\n",
        "\n",
        "# Data related to the ER visit\n",
        "visit = NHAMCS[['WAITTIME', 'PAINSCALE', 'SEEN72', 'TOTDIAG']]\n",
        "\n",
        "# The causes recorded for the patient's situation\n",
        "causes = NHAMCS[['CAUSE1', 'CAUSE2', 'CAUSE3']]\n",
        "\n",
        "# The proposed diagnoses for the patient as well as how probably each of them is\n",
        "diagnoses = NHAMCS[['DIAG1', 'DIAG2', 'DIAG3', 'DIAG4']]\n",
        "diagnosesProbable = NHAMCS[['PRDIAG1', 'PRDIAG2', 'PRDIAG3', 'PRDIAG4']]\n",
        "\n",
        "# The complaints recorded by the patient in their previous visits\n",
        "patientComplaintsDetailed = NHAMCS[['RFV1', 'RFV2', 'RFV3', 'RFV4']]\n",
        "patientComplaintsBroad = NHAMCS[['RFV13D', 'RFV23D', 'RFV33D', 'RFV43D']]\n",
        "\n",
        "# Data related to the patients injury (if any)\n",
        "injuryData = NHAMCS[['INJURY', 'INJPOISAD', 'INJURY72', 'INTENT15', 'INJURY_ENC']]\n",
        "\n",
        "# The patient's vitals\n",
        "vitals = NHAMCS[['VITALSD', 'TEMPDF', 'PULSED', 'RESPRD', 'BPSYSD', 'BPDIASD']]\n",
        "\n",
        "# The patient's disease history\n",
        "previousDiseases = NHAMCS[['ETOHAB' ,'ALZHD','ASTHMA','CANCER','CEBVD','CKD','COPD','CHF','CAD',\n",
        "                           'DEPRN','DIABTYP1','DIABTYP2','DIABTYP0','ESRD','HPE','EDHIV','HYPLIPID','HTN',\n",
        "                           'OBESITY' ,'OSA' ,'OSTPRSIS', 'SUBSTAB','TOTCHRON']]\n",
        "\n",
        "# Blood test results (if any)\n",
        "blood = NHAMCS[['ABG','BAC','BMP','BNP','BUNCREAT','CARDENZ','CBC','CMP','BLOODCX',\n",
        "                'TRTCX','URINECX','WOUNDCX','OTHCX','DDIMER','ELECTROL','GLUCOSE','LACTATE','LFT','PTTINR','OTHERBLD','CARDMON',\n",
        "                'EKG','HIVTEST','FLUTEST','PREGTEST','TOXSCREN','URINE']]\n",
        "\n",
        "# Imaging results (if any)\n",
        "imaging = NHAMCS[['ANYIMAGE','XRAY','CATSCAN','CTCONTRAST','CTAB','CTCHEST','CTHEAD','CTOTHER','CTUNK','MRI','MRICONTRAST','ULTRASND','OTHIMAGE']]\n",
        "\n",
        "# The patient's medicine history\n",
        "medications = NHAMCS[['MED1','MED2','MED3','MED4','MED5','MED6','MED7','MED8','MED9','MED10',\n",
        "                      'MED11','MED12','MED13','MED14','MED15','MED16','MED17','MED18','MED19',\n",
        "                      'MED20','MED21','MED22','MED23','MED24','MED25','MED26','MED27','MED28','MED29','MED30']]\n",
        "\n",
        "# Any medicine prescribed in the ER \n",
        "ERMedications = NHAMCS[['GPMED1','GPMED2','GPMED3','GPMED4','GPMED5','GPMED6','GPMED7','GPMED8','GPMED9','GPMED10',\n",
        "                        'GPMED11','GPMED12','GPMED13','GPMED14','GPMED15','GPMED16','GPMED17','GPMED18','GPMED19',\n",
        "                        'GPMED20','GPMED21','GPMED22','GPMED23','GPMED24','GPMED25','GPMED26','GPMED27','GPMED28','GPMED29','GPMED30']]\n",
        "\n",
        "manually_selected_features = pd.concat([patID, demographics, visit, causes, diagnoses, diagnosesProbable, patientComplaintsDetailed, patientComplaintsBroad, injuryData, \n",
        "                        vitals, previousDiseases, blood, imaging, medications, ERMedications], axis=1)"
      ],
      "execution_count": 193,
      "outputs": []
    },
    {
      "cell_type": "code",
      "metadata": {
        "id": "APLq9mI4SIYo",
        "colab_type": "code",
        "colab": {
          "base_uri": "https://localhost:8080/",
          "height": 238
        },
        "outputId": "48a3f053-3029-4ef9-fd87-d9d7ed1f14b3"
      },
      "source": [
        "automatically_selected_features = NHAMCS\n",
        "\n",
        "# Import the SelectKBest Class, as well as the f_classif scoring metric\n",
        "from sklearn.feature_selection import SelectKBest, f_classif\n",
        "\n",
        "# create an instance of SelectKBest which will select the best 10 features\n",
        "selector_automatic = SelectKBest(f_classif, k=100)\n",
        "\n",
        "# Create a new dataframe with the only top 10 features that would affect our label (immediacyLevel)\n",
        "X_new_automatic = selector_automatic.fit_transform(automatically_selected_features, immediacyLevel)\n",
        "\n",
        "# This part extracts the names of the features since the X_new does not contain column names\n",
        "mask = selector_automatic.get_support() #list of booleans\n",
        "new_features_automatic = [] # The list of your K best features\n",
        "feature_names = automatically_selected_features.columns\n",
        "for bool, feature in zip(mask, feature_names):\n",
        "  if bool:\n",
        "    new_features_automatic.append(feature)\n",
        "\n",
        "# Replace X_new_automatic with itself, along with the names of the columns\n",
        "X_new_automatic = pd.DataFrame(X_new_automatic, columns=new_features_automatic)\n",
        "\n",
        "# print the first 5 records of X_new_automatic to inspect it\n",
        "print(X_new_automatic.head())"
      ],
      "execution_count": 194,
      "outputs": [
        {
          "output_type": "stream",
          "text": [
            "    AGE  AMBTRANSFER  PAYMCARE  PAYMCAID  ...  KIOSELCHK  EDPTOR  DASHBORD  RFID\n",
            "0  55.0         -7.0       0.0       0.0  ...        2.0     2.0       1.0   2.0\n",
            "1  69.0         -7.0       0.0       0.0  ...        2.0     2.0       1.0   2.0\n",
            "2  52.0         -7.0       0.0       0.0  ...        2.0     2.0       1.0   2.0\n",
            "3  33.0         -7.0       0.0       0.0  ...        2.0     2.0       1.0   2.0\n",
            "4  21.0         -7.0       0.0       1.0  ...        2.0     2.0       1.0   2.0\n",
            "\n",
            "[5 rows x 100 columns]\n"
          ],
          "name": "stdout"
        },
        {
          "output_type": "stream",
          "text": [
            "/usr/local/lib/python3.6/dist-packages/sklearn/feature_selection/_univariate_selection.py:114: UserWarning: Features [331] are constant.\n",
            "  UserWarning)\n",
            "/usr/local/lib/python3.6/dist-packages/sklearn/feature_selection/_univariate_selection.py:115: RuntimeWarning: invalid value encountered in true_divide\n",
            "  f = msb / msw\n"
          ],
          "name": "stderr"
        }
      ]
    },
    {
      "cell_type": "code",
      "metadata": {
        "id": "6DGXiV0XTWN3",
        "colab_type": "code",
        "colab": {
          "base_uri": "https://localhost:8080/",
          "height": 151
        },
        "outputId": "6f14585e-60ca-468f-ab29-7a8ad09d1216"
      },
      "source": [
        "# create an instance of SelectKBest which will select the best 10 features\n",
        "selector_manual = SelectKBest(f_classif, k=20)\n",
        "\n",
        "# Create a new dataframe with the only top 10 features that would affect our label (immediacyLevel)\n",
        "X_new_manual = selector_manual.fit_transform(manually_selected_features, immediacyLevel)\n",
        "\n",
        "# This part extracts the names of the features since the X_new does not contain column names\n",
        "mask = selector_manual.get_support() #list of booleans\n",
        "new_features_manual = [] # The list of your K best features\n",
        "feature_names = manually_selected_features.columns\n",
        "for bool, feature in zip(mask, feature_names):\n",
        "  if bool:\n",
        "    new_features_manual.append(feature)\n",
        "\n",
        "# Replace X_new_manual with itself, along with the names of the columns\n",
        "X_new_manual = pd.DataFrame(X_new_manual, columns=new_features_manual)\n",
        "\n",
        "# print the first 5 records of X_new_manual to inspect it\n",
        "print(X_new_manual.head())"
      ],
      "execution_count": 195,
      "outputs": [
        {
          "output_type": "stream",
          "text": [
            "    AGE  TOTDIAG  PULSED  RESPRD  ...  URINE  ANYIMAGE  CATSCAN  CTCONTRAST\n",
            "0  55.0      2.0    -9.0    -9.0  ...    1.0       0.0      0.0        -9.0\n",
            "1  69.0      2.0    95.0    20.0  ...    0.0       1.0      1.0         2.0\n",
            "2  52.0      5.0    98.0    16.0  ...    1.0       1.0      1.0         1.0\n",
            "3  33.0      4.0    -9.0    -9.0  ...    0.0       0.0      0.0        -9.0\n",
            "4  21.0      8.0    70.0    18.0  ...    1.0       1.0      1.0         1.0\n",
            "\n",
            "[5 rows x 20 columns]\n"
          ],
          "name": "stdout"
        }
      ]
    },
    {
      "cell_type": "code",
      "metadata": {
        "id": "8H0X7ZQuW8gK",
        "colab_type": "code",
        "colab": {
          "base_uri": "https://localhost:8080/",
          "height": 54
        },
        "outputId": "2debf9a3-1aa2-4713-8270-58dd331adb24"
      },
      "source": [
        "# Import train_test_split function\n",
        "from sklearn.model_selection import train_test_split\n",
        "\n",
        "# These cols were shown to have a minimal effect on the model so they will be removed:\n",
        "#features_to_be_removed = ['PTTINR', 'BPDIASD', 'PULSED', 'BPSYSD', 'AGE' ]\n",
        "#features_to_be_removed = ['AGRR', 'ANYIMAGE']\n",
        "\n",
        "#new_features_automatic = [feat for feat in new_features_automatic if feat not in features_to_be_removed]\n",
        "print((new_features_automatic))\n",
        "# Split dataset into training set and test set\n",
        "X_train_manual, X_test_manual, y_train_manual, y_test_manual = train_test_split(NHAMCS[new_features_manual], immediacyLevel, test_size=0.2, random_state = 5) # 80% training and 20% test\n",
        "X_train_automatic, X_test_automatic, y_train_automatic, y_test_automatic= train_test_split(NHAMCS[new_features_automatic], immediacyLevel, test_size=0.2, random_state = 5) # 80% training and 20% test"
      ],
      "execution_count": 196,
      "outputs": [
        {
          "output_type": "stream",
          "text": [
            "['AGE', 'AMBTRANSFER', 'PAYMCARE', 'PAYMCAID', 'TEMPF', 'BPSYS', 'BPDIAS', 'PAINSCALE', 'RFV1', 'RFV13D', 'INJURY72', 'INTENT15', 'INJURY_ENC', 'CAUSE1', 'CAUSE2', 'DIAG3', 'DIAG4', 'DIAG5', 'PRDIAG2', 'PRDIAG3', 'PRDIAG4', 'PRDIAG5', 'CEBVD', 'CHF', 'CAD', 'DEPRN', 'HYPLIPID', 'HTN', 'TOTCHRON', 'BAC', 'BMP', 'BNP', 'BUNCREAT', 'CARDENZ', 'CBC', 'CMP', 'BLOODCX', 'URINECX', 'GLUCOSE', 'LACTATE', 'PTTINR', 'OTHERBLD', 'CARDMON', 'EKG', 'PREGTEST', 'TOXSCREN', 'URINE', 'ANYIMAGE', 'XRAY', 'CATSCAN', 'CTCONTRAST', 'CTAB', 'CTCHEST', 'CTHEAD', 'ULTRASND', 'TOTDIAG', 'CASTSPLINT', 'CPR', 'ENDOINT', 'IVFLUIDS', 'TOTPROC', 'MED2', 'MED3', 'MED4', 'MED5', 'MED6', 'MED7', 'GPMED3', 'GPMED4', 'GPMED5', 'GPMED6', 'GPMED7', 'NUMGIV', 'NUMMED', 'VITALSD', 'TEMPDF', 'PULSED', 'RESPRD', 'BPSYSD', 'BPDIASD', 'ATTPHYS', 'RESINT', 'CONSULT', 'PHYSASST', 'EMT', 'MHPROV', 'OTHPROV', 'RETREFFU', 'TRANPSYC', 'ADMTPHYS', 'HDDIAG1', 'HDDIAG2', 'ERESULTER', 'ERADIER', 'EIMGRESER', 'INCPHYS', 'KIOSELCHK', 'EDPTOR', 'DASHBORD', 'RFID']\n"
          ],
          "name": "stdout"
        }
      ]
    },
    {
      "cell_type": "code",
      "metadata": {
        "id": "C-Q_HtKCW02n",
        "colab_type": "code",
        "colab": {
          "base_uri": "https://localhost:8080/",
          "height": 168
        },
        "outputId": "eccb8fbc-5dde-4cb8-9386-581d332d366b"
      },
      "source": [
        "print(NHAMCS['PTTINR'].describe())"
      ],
      "execution_count": 182,
      "outputs": [
        {
          "output_type": "stream",
          "text": [
            "count    26024.000000\n",
            "mean         0.092837\n",
            "std          0.290210\n",
            "min          0.000000\n",
            "25%          0.000000\n",
            "50%          0.000000\n",
            "75%          0.000000\n",
            "max          1.000000\n",
            "Name: PTTINR, dtype: float64\n"
          ],
          "name": "stdout"
        }
      ]
    },
    {
      "cell_type": "code",
      "metadata": {
        "id": "Lj7W7_szUlQM",
        "colab_type": "code",
        "colab": {}
      },
      "source": [
        "#Import svm model\n",
        "from sklearn import svm\n",
        "from sklearn.metrics import classification_report, confusion_matrix"
      ],
      "execution_count": 138,
      "outputs": []
    },
    {
      "cell_type": "code",
      "metadata": {
        "id": "mzM5-Vj7VHbP",
        "colab_type": "code",
        "colab": {
          "base_uri": "https://localhost:8080/",
          "height": 387
        },
        "outputId": "08039376-f21a-4ac7-c827-7b996727ba1e"
      },
      "source": [
        "# train the model on train set \n",
        "model_manual = svm.SVC(kernel='linear') \n",
        "model_manual.fit(X_train_manual, y_train_manual) \n",
        "  \n",
        "# print prediction results \n",
        "predictions_manual = model_manual.predict(X_test_manual) \n",
        "print(classification_report(y_test_manual, predictions_manual))"
      ],
      "execution_count": 123,
      "outputs": [
        {
          "output_type": "error",
          "ename": "KeyboardInterrupt",
          "evalue": "ignored",
          "traceback": [
            "\u001b[0;31m---------------------------------------------------------------------------\u001b[0m",
            "\u001b[0;31mKeyboardInterrupt\u001b[0m                         Traceback (most recent call last)",
            "\u001b[0;32m<ipython-input-123-66cc2efb818f>\u001b[0m in \u001b[0;36m<module>\u001b[0;34m()\u001b[0m\n\u001b[1;32m      1\u001b[0m \u001b[0;31m# train the model on train set\u001b[0m\u001b[0;34m\u001b[0m\u001b[0;34m\u001b[0m\u001b[0;34m\u001b[0m\u001b[0m\n\u001b[1;32m      2\u001b[0m \u001b[0mmodel_manual\u001b[0m \u001b[0;34m=\u001b[0m \u001b[0msvm\u001b[0m\u001b[0;34m.\u001b[0m\u001b[0mSVC\u001b[0m\u001b[0;34m(\u001b[0m\u001b[0mkernel\u001b[0m\u001b[0;34m=\u001b[0m\u001b[0;34m'linear'\u001b[0m\u001b[0;34m)\u001b[0m\u001b[0;34m\u001b[0m\u001b[0;34m\u001b[0m\u001b[0m\n\u001b[0;32m----> 3\u001b[0;31m \u001b[0mmodel_manual\u001b[0m\u001b[0;34m.\u001b[0m\u001b[0mfit\u001b[0m\u001b[0;34m(\u001b[0m\u001b[0mX_train_manual\u001b[0m\u001b[0;34m,\u001b[0m \u001b[0my_train_manual\u001b[0m\u001b[0;34m)\u001b[0m\u001b[0;34m\u001b[0m\u001b[0;34m\u001b[0m\u001b[0m\n\u001b[0m\u001b[1;32m      4\u001b[0m \u001b[0;34m\u001b[0m\u001b[0m\n\u001b[1;32m      5\u001b[0m \u001b[0;31m# print prediction results\u001b[0m\u001b[0;34m\u001b[0m\u001b[0;34m\u001b[0m\u001b[0;34m\u001b[0m\u001b[0m\n",
            "\u001b[0;32m/usr/local/lib/python3.6/dist-packages/sklearn/svm/_base.py\u001b[0m in \u001b[0;36mfit\u001b[0;34m(self, X, y, sample_weight)\u001b[0m\n\u001b[1;32m    197\u001b[0m \u001b[0;34m\u001b[0m\u001b[0m\n\u001b[1;32m    198\u001b[0m         \u001b[0mseed\u001b[0m \u001b[0;34m=\u001b[0m \u001b[0mrnd\u001b[0m\u001b[0;34m.\u001b[0m\u001b[0mrandint\u001b[0m\u001b[0;34m(\u001b[0m\u001b[0mnp\u001b[0m\u001b[0;34m.\u001b[0m\u001b[0miinfo\u001b[0m\u001b[0;34m(\u001b[0m\u001b[0;34m'i'\u001b[0m\u001b[0;34m)\u001b[0m\u001b[0;34m.\u001b[0m\u001b[0mmax\u001b[0m\u001b[0;34m)\u001b[0m\u001b[0;34m\u001b[0m\u001b[0;34m\u001b[0m\u001b[0m\n\u001b[0;32m--> 199\u001b[0;31m         \u001b[0mfit\u001b[0m\u001b[0;34m(\u001b[0m\u001b[0mX\u001b[0m\u001b[0;34m,\u001b[0m \u001b[0my\u001b[0m\u001b[0;34m,\u001b[0m \u001b[0msample_weight\u001b[0m\u001b[0;34m,\u001b[0m \u001b[0msolver_type\u001b[0m\u001b[0;34m,\u001b[0m \u001b[0mkernel\u001b[0m\u001b[0;34m,\u001b[0m \u001b[0mrandom_seed\u001b[0m\u001b[0;34m=\u001b[0m\u001b[0mseed\u001b[0m\u001b[0;34m)\u001b[0m\u001b[0;34m\u001b[0m\u001b[0;34m\u001b[0m\u001b[0m\n\u001b[0m\u001b[1;32m    200\u001b[0m         \u001b[0;31m# see comment on the other call to np.iinfo in this file\u001b[0m\u001b[0;34m\u001b[0m\u001b[0;34m\u001b[0m\u001b[0;34m\u001b[0m\u001b[0m\n\u001b[1;32m    201\u001b[0m \u001b[0;34m\u001b[0m\u001b[0m\n",
            "\u001b[0;32m/usr/local/lib/python3.6/dist-packages/sklearn/svm/_base.py\u001b[0m in \u001b[0;36m_dense_fit\u001b[0;34m(self, X, y, sample_weight, solver_type, kernel, random_seed)\u001b[0m\n\u001b[1;32m    256\u001b[0m                 \u001b[0mcache_size\u001b[0m\u001b[0;34m=\u001b[0m\u001b[0mself\u001b[0m\u001b[0;34m.\u001b[0m\u001b[0mcache_size\u001b[0m\u001b[0;34m,\u001b[0m \u001b[0mcoef0\u001b[0m\u001b[0;34m=\u001b[0m\u001b[0mself\u001b[0m\u001b[0;34m.\u001b[0m\u001b[0mcoef0\u001b[0m\u001b[0;34m,\u001b[0m\u001b[0;34m\u001b[0m\u001b[0;34m\u001b[0m\u001b[0m\n\u001b[1;32m    257\u001b[0m                 \u001b[0mgamma\u001b[0m\u001b[0;34m=\u001b[0m\u001b[0mself\u001b[0m\u001b[0;34m.\u001b[0m\u001b[0m_gamma\u001b[0m\u001b[0;34m,\u001b[0m \u001b[0mepsilon\u001b[0m\u001b[0;34m=\u001b[0m\u001b[0mself\u001b[0m\u001b[0;34m.\u001b[0m\u001b[0mepsilon\u001b[0m\u001b[0;34m,\u001b[0m\u001b[0;34m\u001b[0m\u001b[0;34m\u001b[0m\u001b[0m\n\u001b[0;32m--> 258\u001b[0;31m                 max_iter=self.max_iter, random_seed=random_seed)\n\u001b[0m\u001b[1;32m    259\u001b[0m \u001b[0;34m\u001b[0m\u001b[0m\n\u001b[1;32m    260\u001b[0m         \u001b[0mself\u001b[0m\u001b[0;34m.\u001b[0m\u001b[0m_warn_from_fit_status\u001b[0m\u001b[0;34m(\u001b[0m\u001b[0;34m)\u001b[0m\u001b[0;34m\u001b[0m\u001b[0;34m\u001b[0m\u001b[0m\n",
            "\u001b[0;31mKeyboardInterrupt\u001b[0m: "
          ]
        }
      ]
    },
    {
      "cell_type": "code",
      "metadata": {
        "id": "482-MiYAawBh",
        "colab_type": "code",
        "colab": {
          "base_uri": "https://localhost:8080/",
          "height": 282
        },
        "outputId": "6e134e26-5474-4cf2-e492-a5aa55553a81"
      },
      "source": [
        "pd.Series((model_manual.coef_[0]), index=X_train_manual.columns).nlargest(20).plot(kind='barh')\n"
      ],
      "execution_count": 70,
      "outputs": [
        {
          "output_type": "execute_result",
          "data": {
            "text/plain": [
              "<matplotlib.axes._subplots.AxesSubplot at 0x7f49fb3d4080>"
            ]
          },
          "metadata": {
            "tags": []
          },
          "execution_count": 70
        },
        {
          "output_type": "display_data",
          "data": {
            "image/png": "[encoded data removed]",
            "text/plain": [
              "<Figure size 432x288 with 1 Axes>"
            ]
          },
          "metadata": {
            "tags": [],
            "needs_background": "light"
          }
        }
      ]
    },
    {
      "cell_type": "code",
      "metadata": {
        "id": "mm5WWEayW1yG",
        "colab_type": "code",
        "colab": {
          "base_uri": "https://localhost:8080/",
          "height": 406
        },
        "outputId": "f2aff19f-da4e-48e9-ac3e-f33b26e3a469"
      },
      "source": [
        "from sklearn.linear_model import LogisticRegression\n",
        "# train the model on train set \n",
        "#model_auto = svm.SVC(kernel='linear') \n",
        "model_auto = LogisticRegression()\n",
        "model_auto.fit(X_train_automatic, y_train_automatic) \n",
        "  \n",
        "# print prediction results \n",
        "predictions_automatic = model_auto.predict(X_test_automatic) \n",
        "print(classification_report(y_test_automatic, predictions_automatic))"
      ],
      "execution_count": 197,
      "outputs": [
        {
          "output_type": "stream",
          "text": [
            "              precision    recall  f1-score   support\n",
            "\n",
            "         1.0       1.00      0.02      0.03        65\n",
            "         2.0       0.27      0.04      0.08       587\n",
            "         3.0       0.55      0.73      0.62      2441\n",
            "         4.0       0.49      0.50      0.49      1819\n",
            "         5.0       0.00      0.00      0.00       293\n",
            "\n",
            "    accuracy                           0.52      5205\n",
            "   macro avg       0.46      0.26      0.24      5205\n",
            "weighted avg       0.47      0.52      0.47      5205\n",
            "\n"
          ],
          "name": "stdout"
        },
        {
          "output_type": "stream",
          "text": [
            "/usr/local/lib/python3.6/dist-packages/sklearn/linear_model/_logistic.py:940: ConvergenceWarning: lbfgs failed to converge (status=1):\n",
            "STOP: TOTAL NO. of ITERATIONS REACHED LIMIT.\n",
            "\n",
            "Increase the number of iterations (max_iter) or scale the data as shown in:\n",
            "    https://scikit-learn.org/stable/modules/preprocessing.html\n",
            "Please also refer to the documentation for alternative solver options:\n",
            "    https://scikit-learn.org/stable/modules/linear_model.html#logistic-regression\n",
            "  extra_warning_msg=_LOGISTIC_SOLVER_CONVERGENCE_MSG)\n",
            "/usr/local/lib/python3.6/dist-packages/sklearn/metrics/_classification.py:1272: UndefinedMetricWarning: Precision and F-score are ill-defined and being set to 0.0 in labels with no predicted samples. Use `zero_division` parameter to control this behavior.\n",
            "  _warn_prf(average, modifier, msg_start, len(result))\n"
          ],
          "name": "stderr"
        }
      ]
    },
    {
      "cell_type": "code",
      "metadata": {
        "id": "w7m0hFjNkTST",
        "colab_type": "code",
        "colab": {
          "base_uri": "https://localhost:8080/",
          "height": 298
        },
        "outputId": "ff435adc-93b5-4a66-bdbf-f318fa8017a1"
      },
      "source": [
        "from sklearn.metrics import accuracy_score\n",
        "score_auto = accuracy_score(y_test_automatic, predictions_automatic)\n",
        "print(score_auto)\n",
        "\n",
        "\n",
        "pd.Series((model_auto.coef_[0]), index=X_train_automatic.columns).nsmallest(19).plot(kind='barh')\n"
      ],
      "execution_count": 185,
      "outputs": [
        {
          "output_type": "stream",
          "text": [
            "0.5682997118155619\n"
          ],
          "name": "stdout"
        },
        {
          "output_type": "execute_result",
          "data": {
            "text/plain": [
              "<matplotlib.axes._subplots.AxesSubplot at 0x7f49f7672908>"
            ]
          },
          "metadata": {
            "tags": []
          },
          "execution_count": 185
        },
        {
          "output_type": "display_data",
          "data": {
            "image/png": "[encoded data removed]",
            "text/plain": [
              "<Figure size 432x288 with 1 Axes>"
            ]
          },
          "metadata": {
            "tags": [],
            "needs_background": "light"
          }
        }
      ]
    },
    {
      "cell_type": "code",
      "metadata": {
        "id": "nqAgcvtcN00b",
        "colab_type": "code",
        "colab": {
          "base_uri": "https://localhost:8080/",
          "height": 406
        },
        "outputId": "5e58bd6b-bfd4-4a58-8b8f-4482b81f5db1"
      },
      "source": [
        "# test logistic regression on whole dataset\n",
        "\n",
        "model_full = LogisticRegression()\n",
        "X_train_full, X_test_full, y_train_full, y_test_full= train_test_split(NHAMCS, immediacyLevel, test_size=0.2, random_state = 5) # 80% training and 20% test\n",
        "model_full.fit(X_train_full, y_train_full) \n",
        "\n",
        "# print prediction results \n",
        "predictions_full = model_full.predict(X_test_full) \n",
        "print(classification_report(y_test_full, predictions_full))"
      ],
      "execution_count": 192,
      "outputs": [
        {
          "output_type": "stream",
          "text": [
            "              precision    recall  f1-score   support\n",
            "\n",
            "         1.0       0.00      0.00      0.00        65\n",
            "         2.0       0.00      0.00      0.00       587\n",
            "         3.0       0.48      0.93      0.63      2441\n",
            "         4.0       0.42      0.11      0.17      1819\n",
            "         5.0       0.00      0.00      0.00       293\n",
            "\n",
            "    accuracy                           0.47      5205\n",
            "   macro avg       0.18      0.21      0.16      5205\n",
            "weighted avg       0.37      0.47      0.36      5205\n",
            "\n"
          ],
          "name": "stdout"
        },
        {
          "output_type": "stream",
          "text": [
            "/usr/local/lib/python3.6/dist-packages/sklearn/linear_model/_logistic.py:940: ConvergenceWarning: lbfgs failed to converge (status=1):\n",
            "STOP: TOTAL NO. of ITERATIONS REACHED LIMIT.\n",
            "\n",
            "Increase the number of iterations (max_iter) or scale the data as shown in:\n",
            "    https://scikit-learn.org/stable/modules/preprocessing.html\n",
            "Please also refer to the documentation for alternative solver options:\n",
            "    https://scikit-learn.org/stable/modules/linear_model.html#logistic-regression\n",
            "  extra_warning_msg=_LOGISTIC_SOLVER_CONVERGENCE_MSG)\n",
            "/usr/local/lib/python3.6/dist-packages/sklearn/metrics/_classification.py:1272: UndefinedMetricWarning: Precision and F-score are ill-defined and being set to 0.0 in labels with no predicted samples. Use `zero_division` parameter to control this behavior.\n",
            "  _warn_prf(average, modifier, msg_start, len(result))\n"
          ],
          "name": "stderr"
        }
      ]
    },
    {
      "cell_type": "code",
      "metadata": {
        "id": "oegSw7EAqlMT",
        "colab_type": "code",
        "colab": {
          "base_uri": "https://localhost:8080/",
          "height": 295
        },
        "outputId": "e05f6497-b1ea-4bb7-8d11-031a8407a754"
      },
      "source": [
        "pd.Series((model_full.coef_[0]), index=NHAMCS.columns).nlargest(20).plot(kind='barh')\n"
      ],
      "execution_count": 191,
      "outputs": [
        {
          "output_type": "execute_result",
          "data": {
            "text/plain": [
              "<matplotlib.axes._subplots.AxesSubplot at 0x7f49f7479438>"
            ]
          },
          "metadata": {
            "tags": []
          },
          "execution_count": 191
        },
        {
          "output_type": "display_data",
          "data": {
            "image/png": "[encoded data removed]",
            "text/plain": [
              "<Figure size 432x288 with 1 Axes>"
            ]
          },
          "metadata": {
            "tags": [],
            "needs_background": "light"
          }
        }
      ]
    },
    {
      "cell_type": "code",
      "metadata": {
        "id": "B62KzwN2W3at",
        "colab_type": "code",
        "colab": {
          "base_uri": "https://localhost:8080/",
          "height": 1000
        },
        "outputId": "421105d7-dfe1-462a-b086-975db416516d"
      },
      "source": [
        "from sklearn.pipeline import Pipeline \n",
        "from sklearn.model_selection import GridSearchCV \n",
        "\n",
        "kbest = SelectKBest(f_classif) \n",
        "pipeline = Pipeline([('kbest', kbest), ('svm', svm.SVC())]) \n",
        "grid_search = GridSearchCV(pipeline, {'kbest__k': [5,10,20,30]}) \n",
        "\n",
        "X_train_full, X_test_full, y_train_full, y_test_full= train_test_split(NHAMCS, immediacyLevel, test_size=0.2, random_state = 5) # 80% training and 20% test\n",
        "\n",
        "\n",
        "grid_search.fit(X_train_full, y_train_full) "
      ],
      "execution_count": 202,
      "outputs": [
        {
          "output_type": "stream",
          "text": [
            "/usr/local/lib/python3.6/dist-packages/sklearn/feature_selection/_univariate_selection.py:114: UserWarning: Features [331] are constant.\n",
            "  UserWarning)\n",
            "/usr/local/lib/python3.6/dist-packages/sklearn/feature_selection/_univariate_selection.py:115: RuntimeWarning: invalid value encountered in true_divide\n",
            "  f = msb / msw\n",
            "/usr/local/lib/python3.6/dist-packages/sklearn/feature_selection/_univariate_selection.py:114: UserWarning: Features [331] are constant.\n",
            "  UserWarning)\n",
            "/usr/local/lib/python3.6/dist-packages/sklearn/feature_selection/_univariate_selection.py:115: RuntimeWarning: invalid value encountered in true_divide\n",
            "  f = msb / msw\n",
            "/usr/local/lib/python3.6/dist-packages/sklearn/feature_selection/_univariate_selection.py:114: UserWarning: Features [331] are constant.\n",
            "  UserWarning)\n",
            "/usr/local/lib/python3.6/dist-packages/sklearn/feature_selection/_univariate_selection.py:115: RuntimeWarning: invalid value encountered in true_divide\n",
            "  f = msb / msw\n",
            "/usr/local/lib/python3.6/dist-packages/sklearn/feature_selection/_univariate_selection.py:114: UserWarning: Features [174 204 331] are constant.\n",
            "  UserWarning)\n",
            "/usr/local/lib/python3.6/dist-packages/sklearn/feature_selection/_univariate_selection.py:115: RuntimeWarning: invalid value encountered in true_divide\n",
            "  f = msb / msw\n",
            "/usr/local/lib/python3.6/dist-packages/sklearn/feature_selection/_univariate_selection.py:114: UserWarning: Features [331] are constant.\n",
            "  UserWarning)\n",
            "/usr/local/lib/python3.6/dist-packages/sklearn/feature_selection/_univariate_selection.py:115: RuntimeWarning: invalid value encountered in true_divide\n",
            "  f = msb / msw\n",
            "/usr/local/lib/python3.6/dist-packages/sklearn/feature_selection/_univariate_selection.py:114: UserWarning: Features [331] are constant.\n",
            "  UserWarning)\n",
            "/usr/local/lib/python3.6/dist-packages/sklearn/feature_selection/_univariate_selection.py:115: RuntimeWarning: invalid value encountered in true_divide\n",
            "  f = msb / msw\n",
            "/usr/local/lib/python3.6/dist-packages/sklearn/feature_selection/_univariate_selection.py:114: UserWarning: Features [331] are constant.\n",
            "  UserWarning)\n",
            "/usr/local/lib/python3.6/dist-packages/sklearn/feature_selection/_univariate_selection.py:115: RuntimeWarning: invalid value encountered in true_divide\n",
            "  f = msb / msw\n",
            "/usr/local/lib/python3.6/dist-packages/sklearn/feature_selection/_univariate_selection.py:114: UserWarning: Features [331] are constant.\n",
            "  UserWarning)\n",
            "/usr/local/lib/python3.6/dist-packages/sklearn/feature_selection/_univariate_selection.py:115: RuntimeWarning: invalid value encountered in true_divide\n",
            "  f = msb / msw\n",
            "/usr/local/lib/python3.6/dist-packages/sklearn/feature_selection/_univariate_selection.py:114: UserWarning: Features [174 204 331] are constant.\n",
            "  UserWarning)\n",
            "/usr/local/lib/python3.6/dist-packages/sklearn/feature_selection/_univariate_selection.py:115: RuntimeWarning: invalid value encountered in true_divide\n",
            "  f = msb / msw\n",
            "/usr/local/lib/python3.6/dist-packages/sklearn/feature_selection/_univariate_selection.py:114: UserWarning: Features [331] are constant.\n",
            "  UserWarning)\n",
            "/usr/local/lib/python3.6/dist-packages/sklearn/feature_selection/_univariate_selection.py:115: RuntimeWarning: invalid value encountered in true_divide\n",
            "  f = msb / msw\n",
            "/usr/local/lib/python3.6/dist-packages/sklearn/feature_selection/_univariate_selection.py:114: UserWarning: Features [331] are constant.\n",
            "  UserWarning)\n",
            "/usr/local/lib/python3.6/dist-packages/sklearn/feature_selection/_univariate_selection.py:115: RuntimeWarning: invalid value encountered in true_divide\n",
            "  f = msb / msw\n",
            "/usr/local/lib/python3.6/dist-packages/sklearn/feature_selection/_univariate_selection.py:114: UserWarning: Features [331] are constant.\n",
            "  UserWarning)\n",
            "/usr/local/lib/python3.6/dist-packages/sklearn/feature_selection/_univariate_selection.py:115: RuntimeWarning: invalid value encountered in true_divide\n",
            "  f = msb / msw\n",
            "/usr/local/lib/python3.6/dist-packages/sklearn/feature_selection/_univariate_selection.py:114: UserWarning: Features [331] are constant.\n",
            "  UserWarning)\n",
            "/usr/local/lib/python3.6/dist-packages/sklearn/feature_selection/_univariate_selection.py:115: RuntimeWarning: invalid value encountered in true_divide\n",
            "  f = msb / msw\n",
            "/usr/local/lib/python3.6/dist-packages/sklearn/feature_selection/_univariate_selection.py:114: UserWarning: Features [174 204 331] are constant.\n",
            "  UserWarning)\n",
            "/usr/local/lib/python3.6/dist-packages/sklearn/feature_selection/_univariate_selection.py:115: RuntimeWarning: invalid value encountered in true_divide\n",
            "  f = msb / msw\n",
            "/usr/local/lib/python3.6/dist-packages/sklearn/feature_selection/_univariate_selection.py:114: UserWarning: Features [331] are constant.\n",
            "  UserWarning)\n",
            "/usr/local/lib/python3.6/dist-packages/sklearn/feature_selection/_univariate_selection.py:115: RuntimeWarning: invalid value encountered in true_divide\n",
            "  f = msb / msw\n",
            "/usr/local/lib/python3.6/dist-packages/sklearn/feature_selection/_univariate_selection.py:114: UserWarning: Features [331] are constant.\n",
            "  UserWarning)\n",
            "/usr/local/lib/python3.6/dist-packages/sklearn/feature_selection/_univariate_selection.py:115: RuntimeWarning: invalid value encountered in true_divide\n",
            "  f = msb / msw\n",
            "/usr/local/lib/python3.6/dist-packages/sklearn/feature_selection/_univariate_selection.py:114: UserWarning: Features [331] are constant.\n",
            "  UserWarning)\n",
            "/usr/local/lib/python3.6/dist-packages/sklearn/feature_selection/_univariate_selection.py:115: RuntimeWarning: invalid value encountered in true_divide\n",
            "  f = msb / msw\n",
            "/usr/local/lib/python3.6/dist-packages/sklearn/feature_selection/_univariate_selection.py:114: UserWarning: Features [331] are constant.\n",
            "  UserWarning)\n",
            "/usr/local/lib/python3.6/dist-packages/sklearn/feature_selection/_univariate_selection.py:115: RuntimeWarning: invalid value encountered in true_divide\n",
            "  f = msb / msw\n",
            "/usr/local/lib/python3.6/dist-packages/sklearn/feature_selection/_univariate_selection.py:114: UserWarning: Features [174 204 331] are constant.\n",
            "  UserWarning)\n",
            "/usr/local/lib/python3.6/dist-packages/sklearn/feature_selection/_univariate_selection.py:115: RuntimeWarning: invalid value encountered in true_divide\n",
            "  f = msb / msw\n",
            "/usr/local/lib/python3.6/dist-packages/sklearn/feature_selection/_univariate_selection.py:114: UserWarning: Features [331] are constant.\n",
            "  UserWarning)\n",
            "/usr/local/lib/python3.6/dist-packages/sklearn/feature_selection/_univariate_selection.py:115: RuntimeWarning: invalid value encountered in true_divide\n",
            "  f = msb / msw\n",
            "/usr/local/lib/python3.6/dist-packages/sklearn/feature_selection/_univariate_selection.py:114: UserWarning: Features [331] are constant.\n",
            "  UserWarning)\n",
            "/usr/local/lib/python3.6/dist-packages/sklearn/feature_selection/_univariate_selection.py:115: RuntimeWarning: invalid value encountered in true_divide\n",
            "  f = msb / msw\n"
          ],
          "name": "stderr"
        },
        {
          "output_type": "execute_result",
          "data": {
            "text/plain": [
              "GridSearchCV(cv=None, error_score=nan,\n",
              "             estimator=Pipeline(memory=None,\n",
              "                                steps=[('kbest',\n",
              "                                        SelectKBest(k=10,\n",
              "                                                    score_func=<function f_classif at 0x7f49fe144488>)),\n",
              "                                       ('svm',\n",
              "                                        SVC(C=1.0, break_ties=False,\n",
              "                                            cache_size=200, class_weight=None,\n",
              "                                            coef0=0.0,\n",
              "                                            decision_function_shape='ovr',\n",
              "                                            degree=3, gamma='scale',\n",
              "                                            kernel='rbf', max_iter=-1,\n",
              "                                            probability=False,\n",
              "                                            random_state=None, shrinking=True,\n",
              "                                            tol=0.001, verbose=False))],\n",
              "                                verbose=False),\n",
              "             iid='deprecated', n_jobs=None,\n",
              "             param_grid={'kbest__k': [5, 10, 20, 30]}, pre_dispatch='2*n_jobs',\n",
              "             refit=True, return_train_score=False, scoring=None, verbose=0)"
            ]
          },
          "metadata": {
            "tags": []
          },
          "execution_count": 202
        }
      ]
    },
    {
      "cell_type": "code",
      "metadata": {
        "id": "r3Qg4xPIXOsc",
        "colab_type": "code",
        "colab": {
          "base_uri": "https://localhost:8080/",
          "height": 34
        },
        "outputId": "6f762b5a-8674-44d4-c7a2-2d8be39897fb"
      },
      "source": [
        "print(grid_search.best_score_)"
      ],
      "execution_count": 203,
      "outputs": [
        {
          "output_type": "stream",
          "text": [
            "0.572265807166791\n"
          ],
          "name": "stdout"
        }
      ]
    },
    {
      "cell_type": "code",
      "metadata": {
        "id": "JcivnTHLckFS",
        "colab_type": "code",
        "colab": {}
      },
      "source": [
        ""
      ],
      "execution_count": null,
      "outputs": []
    }
  ]
}